{
  "nbformat": 4,
  "nbformat_minor": 0,
  "metadata": {
    "colab": {
      "provenance": [],
      "collapsed_sections": []
    },
    "kernelspec": {
      "name": "python3",
      "display_name": "Python 3"
    }
  },
  "cells": [
    {
      "cell_type": "markdown",
      "metadata": {
        "id": "Lq09sQbMUXRG"
      },
      "source": [
        "# Introduction\n",
        "L'API Adresse est une API REST qui renvoie les coordonnées géographiques (latitude et longitude) à partir d'une adresse postale française.\n",
        "Si plusieurs adresses postales (pour cause d'imprécision ou de numéro de rue inexistant) correspondant à la requête sont trouvées, l'API retourne plusieurs coordonnées, avec à chaque fois un \"score\". Les coordonnées sont données dans l'ordre de score décroissant, vous pouvez donc retenir la première adresse."
      ]
    },
    {
      "cell_type": "code",
      "metadata": {
        "id": "e7dNMdT8WU8h",
        "colab": {
          "base_uri": "https://localhost:8080/"
        },
        "outputId": "b3971478-278f-488e-d0fe-d3248fa8ce41"
      },
      "source": [
        "# Exécute le code suivant :\n",
        "import requests\n",
        "link = 'https://api-adresse.data.gouv.fr/search/?q=728+Route+de+Villerest&postcode=42155'\n",
        "r = requests.get(link).json()\n",
        "r"
      ],
      "execution_count": 99,
      "outputs": [
        {
          "output_type": "execute_result",
          "data": {
            "text/plain": [
              "{'type': 'FeatureCollection',\n",
              " 'version': 'draft',\n",
              " 'features': [{'type': 'Feature',\n",
              "   'geometry': {'type': 'Point', 'coordinates': [3.993163, 46.00996]},\n",
              "   'properties': {'label': '728 Route de Villerest 42155 Ouches',\n",
              "    'score': 0.8610036363636363,\n",
              "    'housenumber': '728',\n",
              "    'id': '42162_0008_00728',\n",
              "    'name': '728 Route de Villerest',\n",
              "    'postcode': '42155',\n",
              "    'citycode': '42162',\n",
              "    'x': 776847.88,\n",
              "    'y': 6546063.21,\n",
              "    'city': 'Ouches',\n",
              "    'context': '42, Loire, Auvergne-Rhône-Alpes',\n",
              "    'type': 'housenumber',\n",
              "    'importance': 0.47104,\n",
              "    'street': 'Route de Villerest'}},\n",
              "  {'type': 'Feature',\n",
              "   'geometry': {'type': 'Point', 'coordinates': [3.991665, 45.993696]},\n",
              "   'properties': {'label': 'Route de Villerest 42155 Lentigny',\n",
              "    'score': 0.7022631168831169,\n",
              "    'id': '42120_0066',\n",
              "    'name': 'Route de Villerest',\n",
              "    'postcode': '42155',\n",
              "    'citycode': '42120',\n",
              "    'x': 776754.65,\n",
              "    'y': 6544255.77,\n",
              "    'city': 'Lentigny',\n",
              "    'context': '42, Loire, Auvergne-Rhône-Alpes',\n",
              "    'type': 'street',\n",
              "    'importance': 0.43918}}],\n",
              " 'attribution': 'BAN',\n",
              " 'licence': 'ETALAB-2.0',\n",
              " 'query': '728 Route de Villerest',\n",
              " 'filters': {'postcode': '42155'},\n",
              " 'limit': 5}"
            ]
          },
          "metadata": {},
          "execution_count": 99
        }
      ]
    },
    {
      "cell_type": "code",
      "metadata": {
        "id": "D7YK4RLtYxJP",
        "colab": {
          "base_uri": "https://localhost:8080/"
        },
        "outputId": "566eaedb-4508-4161-d2ef-5ac497c5ba65"
      },
      "source": [
        "# Les coordonnées sont données dans l'ordre longitude puis latitude\n",
        "# Ici nous ne sélectionnons que la première adresse (indice 0)\n",
        "print(\"première adresse :\", r['features'][0])\n",
        "print(\"coordonnées de la première adresse :\",r['features'][0]['geometry']['coordinates'])\n",
        "print(\"score de la première adresse :\",r['features'][0]['properties']['score'])"
      ],
      "execution_count": 100,
      "outputs": [
        {
          "output_type": "stream",
          "name": "stdout",
          "text": [
            "première adresse : {'type': 'Feature', 'geometry': {'type': 'Point', 'coordinates': [3.993163, 46.00996]}, 'properties': {'label': '728 Route de Villerest 42155 Ouches', 'score': 0.8610036363636363, 'housenumber': '728', 'id': '42162_0008_00728', 'name': '728 Route de Villerest', 'postcode': '42155', 'citycode': '42162', 'x': 776847.88, 'y': 6546063.21, 'city': 'Ouches', 'context': '42, Loire, Auvergne-Rhône-Alpes', 'type': 'housenumber', 'importance': 0.47104, 'street': 'Route de Villerest'}}\n",
            "coordonnées de la première adresse : [3.993163, 46.00996]\n",
            "score de la première adresse : 0.8610036363636363\n"
          ]
        }
      ]
    },
    {
      "cell_type": "code",
      "metadata": {
        "id": "1n8xgPwnbddp",
        "colab": {
          "base_uri": "https://localhost:8080/"
        },
        "outputId": "7f84655b-d0ba-4437-81b2-abf012da7170"
      },
      "source": [
        "# Pour plus de facilité, tu peux ajouter une limite sur le nombre d'éléments retournés\n",
        "\n",
        "link = 'https://api-adresse.data.gouv.fr/search/?q=728+Route+de+Villerest&postcode=42155'\n",
        "r = requests.get(link).json()\n",
        "print(\"SANS limite, cette adresse renvoie combien de coordonnées ?\",len(r['features']))\n",
        "\n",
        "link = 'https://api-adresse.data.gouv.fr/search/?q=728+Route+de+Villerest&postcode=42155&limit=1'\n",
        "r = requests.get(link).json()\n",
        "print(\"AVEC limite, cette adresse renvoie combien de coordonnées ?\",len(r['features']))"
      ],
      "execution_count": 101,
      "outputs": [
        {
          "output_type": "stream",
          "name": "stdout",
          "text": [
            "SANS limite, cette adresse renvoie combien de coordonnées ? 2\n",
            "AVEC limite, cette adresse renvoie combien de coordonnées ? 1\n"
          ]
        }
      ]
    },
    {
      "cell_type": "markdown",
      "metadata": {
        "id": "PhjWl336aVUm"
      },
      "source": [
        "## Comment créer sa requête à l'API\n",
        "A toi de modifier la chaine de caractère pour créer la bonne URL de requête"
      ]
    },
    {
      "cell_type": "code",
      "metadata": {
        "id": "-_A9JKScWV5I",
        "colab": {
          "base_uri": "https://localhost:8080/"
        },
        "outputId": "48826f46-9c79-42fd-9706-a667cfd1e511"
      },
      "source": [
        "# On observe que la requête se compose d'une partie fixe, suivi de l'adresse à chercher\n",
        "# Une URL ne peut pas comporter de caractère espace \" \", \n",
        "# et il faut éviter si possible d'avoir des caractères spéciaux ou des accents\n",
        "\n",
        "link_main = 'https://api-adresse.data.gouv.fr/search/?q='\n",
        "adresse = '728 Route de Villerest, 42155 Ouches'\n",
        "\n",
        "\n",
        "link = link_main + adresse.replace(' ','+') # A toi de jouer ici \n",
        "\n",
        "print(link)"
      ],
      "execution_count": 102,
      "outputs": [
        {
          "output_type": "stream",
          "name": "stdout",
          "text": [
            "https://api-adresse.data.gouv.fr/search/?q=728+Route+de+Villerest,+42155+Ouches\n"
          ]
        }
      ]
    },
    {
      "cell_type": "code",
      "metadata": {
        "id": "9gLir_IWdHGz"
      },
      "source": [
        "# Crée ici une fonction qui transforme une adresse postale en URL de requête pour l'API Adresse, \n",
        "# puis effectue la requête et retourne les coordonnées :\n",
        "\n",
        "def API_adresse(adresse_postale):\n",
        "  link_main = 'https://api-adresse.data.gouv.fr/search/?q='\n",
        "  link = link_main + adresse_postale.replace(' ','+')\n",
        "  return (link)"
      ],
      "execution_count": 103,
      "outputs": []
    },
    {
      "cell_type": "code",
      "metadata": {
        "id": "C0ZQnTyvdY4M",
        "colab": {
          "base_uri": "https://localhost:8080/"
        },
        "outputId": "577efd2d-ad64-4363-b560-a37a8a987c94"
      },
      "source": [
        "# Teste-là ici :\n",
        "\n",
        "link = API_adresse(adresse)\n",
        "print(link)"
      ],
      "execution_count": 104,
      "outputs": [
        {
          "output_type": "stream",
          "name": "stdout",
          "text": [
            "https://api-adresse.data.gouv.fr/search/?q=728+Route+de+Villerest,+42155+Ouches\n"
          ]
        }
      ]
    },
    {
      "cell_type": "markdown",
      "metadata": {
        "id": "rXLrMxFvcFu_"
      },
      "source": [
        "# DataViz\n",
        "Les coordonnées peuvent être utilisées sur des outils de visualisation, qu'il s'agisse d'outils de BI (PowerBI, Tableau), ou des bibliothèques de DataViz en Python comme Plotly ou Folium.\n",
        "\n",
        "Ici nous allons afficher une carte avec Folium.\n"
      ]
    },
    {
      "cell_type": "code",
      "metadata": {
        "id": "eGPJSG18UFlh",
        "colab": {
          "base_uri": "https://localhost:8080/"
        },
        "outputId": "f178dbe5-03db-4b0b-d875-21abaf1a7252"
      },
      "source": [
        "# Attention, le système latin retourne les coordonnées en (longitude, latitude), \n",
        "# Alors que le système anglo-saxon est en (latitude, longitude), il faut donc inverser les coordonnées\n",
        "# Ca tombe bien, vous savez le faire sur une liste avec un \"pas\" de moins un.\n",
        "point = r['features'][0]['geometry']['coordinates'][::-1]\n",
        "point"
      ],
      "execution_count": 105,
      "outputs": [
        {
          "output_type": "execute_result",
          "data": {
            "text/plain": [
              "[46.00996, 3.993163]"
            ]
          },
          "metadata": {},
          "execution_count": 105
        }
      ]
    },
    {
      "cell_type": "code",
      "metadata": {
        "id": "969VKpP1fWdJ",
        "colab": {
          "base_uri": "https://localhost:8080/",
          "height": 904
        },
        "outputId": "4e20dfd7-b890-4fac-a554-7a764336bfbf"
      },
      "source": [
        "# La syntaxe de Folium est très simple, vous commencez par créer une carte centrée sur un point\n",
        "# Vous pouvez modifier le niveau de zoom par défaut avec l'argument \"zoom_start\"\n",
        "import folium\n",
        "m = folium.Map(location=point,zoom_start=7)\n",
        "m"
      ],
      "execution_count": 106,
      "outputs": [
        {
          "output_type": "execute_result",
          "data": {
            "text/plain": [
              "<folium.folium.Map at 0x7f5ae5f0cf10>"
            ],
            "text/html": [
              "<div style=\"width:100%;\"><div style=\"position:relative;width:100%;height:0;padding-bottom:60%;\"><span style=\"color:#565656\">Make this Notebook Trusted to load map: File -> Trust Notebook</span><iframe srcdoc=\"&lt;!DOCTYPE html&gt;\n",
              "&lt;head&gt;    \n",
              "    &lt;meta http-equiv=&quot;content-type&quot; content=&quot;text/html; charset=UTF-8&quot; /&gt;\n",
              "    \n",
              "        &lt;script&gt;\n",
              "            L_NO_TOUCH = false;\n",
              "            L_DISABLE_3D = false;\n",
              "        &lt;/script&gt;\n",
              "    \n",
              "    &lt;style&gt;html, body {width: 100%;height: 100%;margin: 0;padding: 0;}&lt;/style&gt;\n",
              "    &lt;style&gt;#map {position:absolute;top:0;bottom:0;right:0;left:0;}&lt;/style&gt;\n",
              "    &lt;script src=&quot;https://cdn.jsdelivr.net/npm/leaflet@1.6.0/dist/leaflet.js&quot;&gt;&lt;/script&gt;\n",
              "    &lt;script src=&quot;https://code.jquery.com/jquery-1.12.4.min.js&quot;&gt;&lt;/script&gt;\n",
              "    &lt;script src=&quot;https://maxcdn.bootstrapcdn.com/bootstrap/3.2.0/js/bootstrap.min.js&quot;&gt;&lt;/script&gt;\n",
              "    &lt;script src=&quot;https://cdnjs.cloudflare.com/ajax/libs/Leaflet.awesome-markers/2.0.2/leaflet.awesome-markers.js&quot;&gt;&lt;/script&gt;\n",
              "    &lt;link rel=&quot;stylesheet&quot; href=&quot;https://cdn.jsdelivr.net/npm/leaflet@1.6.0/dist/leaflet.css&quot;/&gt;\n",
              "    &lt;link rel=&quot;stylesheet&quot; href=&quot;https://maxcdn.bootstrapcdn.com/bootstrap/3.2.0/css/bootstrap.min.css&quot;/&gt;\n",
              "    &lt;link rel=&quot;stylesheet&quot; href=&quot;https://maxcdn.bootstrapcdn.com/bootstrap/3.2.0/css/bootstrap-theme.min.css&quot;/&gt;\n",
              "    &lt;link rel=&quot;stylesheet&quot; href=&quot;https://maxcdn.bootstrapcdn.com/font-awesome/4.6.3/css/font-awesome.min.css&quot;/&gt;\n",
              "    &lt;link rel=&quot;stylesheet&quot; href=&quot;https://cdnjs.cloudflare.com/ajax/libs/Leaflet.awesome-markers/2.0.2/leaflet.awesome-markers.css&quot;/&gt;\n",
              "    &lt;link rel=&quot;stylesheet&quot; href=&quot;https://cdn.jsdelivr.net/gh/python-visualization/folium/folium/templates/leaflet.awesome.rotate.min.css&quot;/&gt;\n",
              "    \n",
              "            &lt;meta name=&quot;viewport&quot; content=&quot;width=device-width,\n",
              "                initial-scale=1.0, maximum-scale=1.0, user-scalable=no&quot; /&gt;\n",
              "            &lt;style&gt;\n",
              "                #map_bc334245f3725e5a08dfed7bfeee5a4a {\n",
              "                    position: relative;\n",
              "                    width: 100.0%;\n",
              "                    height: 100.0%;\n",
              "                    left: 0.0%;\n",
              "                    top: 0.0%;\n",
              "                }\n",
              "            &lt;/style&gt;\n",
              "        \n",
              "&lt;/head&gt;\n",
              "&lt;body&gt;    \n",
              "    \n",
              "            &lt;div class=&quot;folium-map&quot; id=&quot;map_bc334245f3725e5a08dfed7bfeee5a4a&quot; &gt;&lt;/div&gt;\n",
              "        \n",
              "&lt;/body&gt;\n",
              "&lt;script&gt;    \n",
              "    \n",
              "            var map_bc334245f3725e5a08dfed7bfeee5a4a = L.map(\n",
              "                &quot;map_bc334245f3725e5a08dfed7bfeee5a4a&quot;,\n",
              "                {\n",
              "                    center: [46.00996, 3.993163],\n",
              "                    crs: L.CRS.EPSG3857,\n",
              "                    zoom: 7,\n",
              "                    zoomControl: true,\n",
              "                    preferCanvas: false,\n",
              "                }\n",
              "            );\n",
              "\n",
              "            \n",
              "\n",
              "        \n",
              "    \n",
              "            var tile_layer_3176f3859f47965b3ca82139d37389fe = L.tileLayer(\n",
              "                &quot;https://{s}.tile.openstreetmap.org/{z}/{x}/{y}.png&quot;,\n",
              "                {&quot;attribution&quot;: &quot;Data by \\u0026copy; \\u003ca href=\\&quot;http://openstreetmap.org\\&quot;\\u003eOpenStreetMap\\u003c/a\\u003e, under \\u003ca href=\\&quot;http://www.openstreetmap.org/copyright\\&quot;\\u003eODbL\\u003c/a\\u003e.&quot;, &quot;detectRetina&quot;: false, &quot;maxNativeZoom&quot;: 18, &quot;maxZoom&quot;: 18, &quot;minZoom&quot;: 0, &quot;noWrap&quot;: false, &quot;opacity&quot;: 1, &quot;subdomains&quot;: &quot;abc&quot;, &quot;tms&quot;: false}\n",
              "            ).addTo(map_bc334245f3725e5a08dfed7bfeee5a4a);\n",
              "        \n",
              "&lt;/script&gt;\" style=\"position:absolute;width:100%;height:100%;left:0;top:0;border:none !important;\" allowfullscreen webkitallowfullscreen mozallowfullscreen></iframe></div></div>"
            ]
          },
          "metadata": {},
          "execution_count": 106
        }
      ]
    },
    {
      "cell_type": "code",
      "metadata": {
        "id": "eXWTn1mFUKrH",
        "colab": {
          "base_uri": "https://localhost:8080/",
          "height": 904
        },
        "outputId": "2cf4969f-99ea-4327-c74d-192f766f52f7"
      },
      "source": [
        "# Puis vous pouvez ajouter des points de repère et mettre un commentaire cliquable\n",
        "m = folium.Map(location=point, )\n",
        "folium.Marker(\n",
        "    location=point,\n",
        "    popup='Un bon restau sur le pouce'\n",
        "    ).add_to(m)\n",
        "m"
      ],
      "execution_count": 107,
      "outputs": [
        {
          "output_type": "execute_result",
          "data": {
            "text/plain": [
              "<folium.folium.Map at 0x7f5ae5f67290>"
            ],
            "text/html": [
              "<div style=\"width:100%;\"><div style=\"position:relative;width:100%;height:0;padding-bottom:60%;\"><span style=\"color:#565656\">Make this Notebook Trusted to load map: File -> Trust Notebook</span><iframe srcdoc=\"&lt;!DOCTYPE html&gt;\n",
              "&lt;head&gt;    \n",
              "    &lt;meta http-equiv=&quot;content-type&quot; content=&quot;text/html; charset=UTF-8&quot; /&gt;\n",
              "    \n",
              "        &lt;script&gt;\n",
              "            L_NO_TOUCH = false;\n",
              "            L_DISABLE_3D = false;\n",
              "        &lt;/script&gt;\n",
              "    \n",
              "    &lt;style&gt;html, body {width: 100%;height: 100%;margin: 0;padding: 0;}&lt;/style&gt;\n",
              "    &lt;style&gt;#map {position:absolute;top:0;bottom:0;right:0;left:0;}&lt;/style&gt;\n",
              "    &lt;script src=&quot;https://cdn.jsdelivr.net/npm/leaflet@1.6.0/dist/leaflet.js&quot;&gt;&lt;/script&gt;\n",
              "    &lt;script src=&quot;https://code.jquery.com/jquery-1.12.4.min.js&quot;&gt;&lt;/script&gt;\n",
              "    &lt;script src=&quot;https://maxcdn.bootstrapcdn.com/bootstrap/3.2.0/js/bootstrap.min.js&quot;&gt;&lt;/script&gt;\n",
              "    &lt;script src=&quot;https://cdnjs.cloudflare.com/ajax/libs/Leaflet.awesome-markers/2.0.2/leaflet.awesome-markers.js&quot;&gt;&lt;/script&gt;\n",
              "    &lt;link rel=&quot;stylesheet&quot; href=&quot;https://cdn.jsdelivr.net/npm/leaflet@1.6.0/dist/leaflet.css&quot;/&gt;\n",
              "    &lt;link rel=&quot;stylesheet&quot; href=&quot;https://maxcdn.bootstrapcdn.com/bootstrap/3.2.0/css/bootstrap.min.css&quot;/&gt;\n",
              "    &lt;link rel=&quot;stylesheet&quot; href=&quot;https://maxcdn.bootstrapcdn.com/bootstrap/3.2.0/css/bootstrap-theme.min.css&quot;/&gt;\n",
              "    &lt;link rel=&quot;stylesheet&quot; href=&quot;https://maxcdn.bootstrapcdn.com/font-awesome/4.6.3/css/font-awesome.min.css&quot;/&gt;\n",
              "    &lt;link rel=&quot;stylesheet&quot; href=&quot;https://cdnjs.cloudflare.com/ajax/libs/Leaflet.awesome-markers/2.0.2/leaflet.awesome-markers.css&quot;/&gt;\n",
              "    &lt;link rel=&quot;stylesheet&quot; href=&quot;https://cdn.jsdelivr.net/gh/python-visualization/folium/folium/templates/leaflet.awesome.rotate.min.css&quot;/&gt;\n",
              "    \n",
              "            &lt;meta name=&quot;viewport&quot; content=&quot;width=device-width,\n",
              "                initial-scale=1.0, maximum-scale=1.0, user-scalable=no&quot; /&gt;\n",
              "            &lt;style&gt;\n",
              "                #map_5c713ff834f6130a84a62c4febad7f5f {\n",
              "                    position: relative;\n",
              "                    width: 100.0%;\n",
              "                    height: 100.0%;\n",
              "                    left: 0.0%;\n",
              "                    top: 0.0%;\n",
              "                }\n",
              "            &lt;/style&gt;\n",
              "        \n",
              "&lt;/head&gt;\n",
              "&lt;body&gt;    \n",
              "    \n",
              "            &lt;div class=&quot;folium-map&quot; id=&quot;map_5c713ff834f6130a84a62c4febad7f5f&quot; &gt;&lt;/div&gt;\n",
              "        \n",
              "&lt;/body&gt;\n",
              "&lt;script&gt;    \n",
              "    \n",
              "            var map_5c713ff834f6130a84a62c4febad7f5f = L.map(\n",
              "                &quot;map_5c713ff834f6130a84a62c4febad7f5f&quot;,\n",
              "                {\n",
              "                    center: [46.00996, 3.993163],\n",
              "                    crs: L.CRS.EPSG3857,\n",
              "                    zoom: 10,\n",
              "                    zoomControl: true,\n",
              "                    preferCanvas: false,\n",
              "                }\n",
              "            );\n",
              "\n",
              "            \n",
              "\n",
              "        \n",
              "    \n",
              "            var tile_layer_ef0d3c03274463fc0b46c47b2bde921d = L.tileLayer(\n",
              "                &quot;https://{s}.tile.openstreetmap.org/{z}/{x}/{y}.png&quot;,\n",
              "                {&quot;attribution&quot;: &quot;Data by \\u0026copy; \\u003ca href=\\&quot;http://openstreetmap.org\\&quot;\\u003eOpenStreetMap\\u003c/a\\u003e, under \\u003ca href=\\&quot;http://www.openstreetmap.org/copyright\\&quot;\\u003eODbL\\u003c/a\\u003e.&quot;, &quot;detectRetina&quot;: false, &quot;maxNativeZoom&quot;: 18, &quot;maxZoom&quot;: 18, &quot;minZoom&quot;: 0, &quot;noWrap&quot;: false, &quot;opacity&quot;: 1, &quot;subdomains&quot;: &quot;abc&quot;, &quot;tms&quot;: false}\n",
              "            ).addTo(map_5c713ff834f6130a84a62c4febad7f5f);\n",
              "        \n",
              "    \n",
              "            var marker_c59ce9c88f84ca6a6392e2c57e5632f4 = L.marker(\n",
              "                [46.00996, 3.993163],\n",
              "                {}\n",
              "            ).addTo(map_5c713ff834f6130a84a62c4febad7f5f);\n",
              "        \n",
              "    \n",
              "        var popup_98388193c56adeab968b3ee4ca7ea9a1 = L.popup({&quot;maxWidth&quot;: &quot;100%&quot;});\n",
              "\n",
              "        \n",
              "            var html_543657d233648ef981911456eb1fc652 = $(`&lt;div id=&quot;html_543657d233648ef981911456eb1fc652&quot; style=&quot;width: 100.0%; height: 100.0%;&quot;&gt;Un bon restau sur le pouce&lt;/div&gt;`)[0];\n",
              "            popup_98388193c56adeab968b3ee4ca7ea9a1.setContent(html_543657d233648ef981911456eb1fc652);\n",
              "        \n",
              "\n",
              "        marker_c59ce9c88f84ca6a6392e2c57e5632f4.bindPopup(popup_98388193c56adeab968b3ee4ca7ea9a1)\n",
              "        ;\n",
              "\n",
              "        \n",
              "    \n",
              "&lt;/script&gt;\" style=\"position:absolute;width:100%;height:100%;left:0;top:0;border:none !important;\" allowfullscreen webkitallowfullscreen mozallowfullscreen></iframe></div></div>"
            ]
          },
          "metadata": {},
          "execution_count": 107
        }
      ]
    },
    {
      "cell_type": "markdown",
      "metadata": {
        "id": "R1xRs4dlgC2-"
      },
      "source": [
        "# Challenge\n",
        "Voici un DataFrame avec des restaurants de Clermont-Ferrand, et leurs adresses respectives. Voici ta mission :\n",
        "- Créer une nouvelle colonne \"coordonnées\", qui stockera les coordonnées correspondant à chaque adresse (tu peux t'aider de la fonction que tu as créée précédemment)\n",
        "- Afficher une carte avec les 4 marqueurs des restaurants. Attention, les restaurants sont très proches, pense à bien régler le niveau de zoom par défaut pour que ce soit bien lisible. Tu peux centrer la carte sur le premier restaurant."
      ]
    },
    {
      "cell_type": "code",
      "metadata": {
        "id": "sHBjenHbCYjh",
        "colab": {
          "base_uri": "https://localhost:8080/",
          "height": 175
        },
        "outputId": "7236a469-980e-46be-d3dc-faa626913b18"
      },
      "source": [
        "import pandas as pd\n",
        "restaurants = pd.DataFrame([[\"Polypode\",\"6 place du Champgil, Clermont-Ferrand, 63000\"],\n",
        "                            [\"Jean-Claude Leclerc\", \"12 rue St-Adjutor, Clermont-Ferrand, 63000\"],\n",
        "                            [\"L'Écureuil\", \"18 rue St-Adjutor, Clermont-Ferrand, 63000\"],\n",
        "                            [\"Le Saint-Eutrope\", \"4 rue St-Eutrope, Clermont-Ferrand, 63000\"]],\n",
        "                           columns = [\"nom\", \"adresse\"])\n",
        "                           \n",
        "restaurants"
      ],
      "execution_count": 108,
      "outputs": [
        {
          "output_type": "execute_result",
          "data": {
            "text/plain": [
              "                   nom                                       adresse\n",
              "0             Polypode  6 place du Champgil, Clermont-Ferrand, 63000\n",
              "1  Jean-Claude Leclerc    12 rue St-Adjutor, Clermont-Ferrand, 63000\n",
              "2           L'Écureuil    18 rue St-Adjutor, Clermont-Ferrand, 63000\n",
              "3     Le Saint-Eutrope     4 rue St-Eutrope, Clermont-Ferrand, 63000"
            ],
            "text/html": [
              "\n",
              "  <div id=\"df-af4c662a-4b1c-4567-bc8e-404aa8c4e705\">\n",
              "    <div class=\"colab-df-container\">\n",
              "      <div>\n",
              "<style scoped>\n",
              "    .dataframe tbody tr th:only-of-type {\n",
              "        vertical-align: middle;\n",
              "    }\n",
              "\n",
              "    .dataframe tbody tr th {\n",
              "        vertical-align: top;\n",
              "    }\n",
              "\n",
              "    .dataframe thead th {\n",
              "        text-align: right;\n",
              "    }\n",
              "</style>\n",
              "<table border=\"1\" class=\"dataframe\">\n",
              "  <thead>\n",
              "    <tr style=\"text-align: right;\">\n",
              "      <th></th>\n",
              "      <th>nom</th>\n",
              "      <th>adresse</th>\n",
              "    </tr>\n",
              "  </thead>\n",
              "  <tbody>\n",
              "    <tr>\n",
              "      <th>0</th>\n",
              "      <td>Polypode</td>\n",
              "      <td>6 place du Champgil, Clermont-Ferrand, 63000</td>\n",
              "    </tr>\n",
              "    <tr>\n",
              "      <th>1</th>\n",
              "      <td>Jean-Claude Leclerc</td>\n",
              "      <td>12 rue St-Adjutor, Clermont-Ferrand, 63000</td>\n",
              "    </tr>\n",
              "    <tr>\n",
              "      <th>2</th>\n",
              "      <td>L'Écureuil</td>\n",
              "      <td>18 rue St-Adjutor, Clermont-Ferrand, 63000</td>\n",
              "    </tr>\n",
              "    <tr>\n",
              "      <th>3</th>\n",
              "      <td>Le Saint-Eutrope</td>\n",
              "      <td>4 rue St-Eutrope, Clermont-Ferrand, 63000</td>\n",
              "    </tr>\n",
              "  </tbody>\n",
              "</table>\n",
              "</div>\n",
              "      <button class=\"colab-df-convert\" onclick=\"convertToInteractive('df-af4c662a-4b1c-4567-bc8e-404aa8c4e705')\"\n",
              "              title=\"Convert this dataframe to an interactive table.\"\n",
              "              style=\"display:none;\">\n",
              "        \n",
              "  <svg xmlns=\"http://www.w3.org/2000/svg\" height=\"24px\"viewBox=\"0 0 24 24\"\n",
              "       width=\"24px\">\n",
              "    <path d=\"M0 0h24v24H0V0z\" fill=\"none\"/>\n",
              "    <path d=\"M18.56 5.44l.94 2.06.94-2.06 2.06-.94-2.06-.94-.94-2.06-.94 2.06-2.06.94zm-11 1L8.5 8.5l.94-2.06 2.06-.94-2.06-.94L8.5 2.5l-.94 2.06-2.06.94zm10 10l.94 2.06.94-2.06 2.06-.94-2.06-.94-.94-2.06-.94 2.06-2.06.94z\"/><path d=\"M17.41 7.96l-1.37-1.37c-.4-.4-.92-.59-1.43-.59-.52 0-1.04.2-1.43.59L10.3 9.45l-7.72 7.72c-.78.78-.78 2.05 0 2.83L4 21.41c.39.39.9.59 1.41.59.51 0 1.02-.2 1.41-.59l7.78-7.78 2.81-2.81c.8-.78.8-2.07 0-2.86zM5.41 20L4 18.59l7.72-7.72 1.47 1.35L5.41 20z\"/>\n",
              "  </svg>\n",
              "      </button>\n",
              "      \n",
              "  <style>\n",
              "    .colab-df-container {\n",
              "      display:flex;\n",
              "      flex-wrap:wrap;\n",
              "      gap: 12px;\n",
              "    }\n",
              "\n",
              "    .colab-df-convert {\n",
              "      background-color: #E8F0FE;\n",
              "      border: none;\n",
              "      border-radius: 50%;\n",
              "      cursor: pointer;\n",
              "      display: none;\n",
              "      fill: #1967D2;\n",
              "      height: 32px;\n",
              "      padding: 0 0 0 0;\n",
              "      width: 32px;\n",
              "    }\n",
              "\n",
              "    .colab-df-convert:hover {\n",
              "      background-color: #E2EBFA;\n",
              "      box-shadow: 0px 1px 2px rgba(60, 64, 67, 0.3), 0px 1px 3px 1px rgba(60, 64, 67, 0.15);\n",
              "      fill: #174EA6;\n",
              "    }\n",
              "\n",
              "    [theme=dark] .colab-df-convert {\n",
              "      background-color: #3B4455;\n",
              "      fill: #D2E3FC;\n",
              "    }\n",
              "\n",
              "    [theme=dark] .colab-df-convert:hover {\n",
              "      background-color: #434B5C;\n",
              "      box-shadow: 0px 1px 3px 1px rgba(0, 0, 0, 0.15);\n",
              "      filter: drop-shadow(0px 1px 2px rgba(0, 0, 0, 0.3));\n",
              "      fill: #FFFFFF;\n",
              "    }\n",
              "  </style>\n",
              "\n",
              "      <script>\n",
              "        const buttonEl =\n",
              "          document.querySelector('#df-af4c662a-4b1c-4567-bc8e-404aa8c4e705 button.colab-df-convert');\n",
              "        buttonEl.style.display =\n",
              "          google.colab.kernel.accessAllowed ? 'block' : 'none';\n",
              "\n",
              "        async function convertToInteractive(key) {\n",
              "          const element = document.querySelector('#df-af4c662a-4b1c-4567-bc8e-404aa8c4e705');\n",
              "          const dataTable =\n",
              "            await google.colab.kernel.invokeFunction('convertToInteractive',\n",
              "                                                     [key], {});\n",
              "          if (!dataTable) return;\n",
              "\n",
              "          const docLinkHtml = 'Like what you see? Visit the ' +\n",
              "            '<a target=\"_blank\" href=https://colab.research.google.com/notebooks/data_table.ipynb>data table notebook</a>'\n",
              "            + ' to learn more about interactive tables.';\n",
              "          element.innerHTML = '';\n",
              "          dataTable['output_type'] = 'display_data';\n",
              "          await google.colab.output.renderOutput(dataTable, element);\n",
              "          const docLink = document.createElement('div');\n",
              "          docLink.innerHTML = docLinkHtml;\n",
              "          element.appendChild(docLink);\n",
              "        }\n",
              "      </script>\n",
              "    </div>\n",
              "  </div>\n",
              "  "
            ]
          },
          "metadata": {},
          "execution_count": 108
        }
      ]
    },
    {
      "cell_type": "code",
      "metadata": {
        "id": "FnfpiC3WE_Dj",
        "colab": {
          "base_uri": "https://localhost:8080/",
          "height": 175
        },
        "outputId": "39698471-3c7e-4b93-cfeb-9402493b6d99"
      },
      "source": [
        "# Ton code ici :\n",
        "\n",
        "\n",
        "restaurants['API'] = restaurants['adresse'].apply(API_adresse)\n",
        "restaurants"
      ],
      "execution_count": 109,
      "outputs": [
        {
          "output_type": "execute_result",
          "data": {
            "text/plain": [
              "                   nom                                       adresse  \\\n",
              "0             Polypode  6 place du Champgil, Clermont-Ferrand, 63000   \n",
              "1  Jean-Claude Leclerc    12 rue St-Adjutor, Clermont-Ferrand, 63000   \n",
              "2           L'Écureuil    18 rue St-Adjutor, Clermont-Ferrand, 63000   \n",
              "3     Le Saint-Eutrope     4 rue St-Eutrope, Clermont-Ferrand, 63000   \n",
              "\n",
              "                                                 API  \n",
              "0  https://api-adresse.data.gouv.fr/search/?q=6+p...  \n",
              "1  https://api-adresse.data.gouv.fr/search/?q=12+...  \n",
              "2  https://api-adresse.data.gouv.fr/search/?q=18+...  \n",
              "3  https://api-adresse.data.gouv.fr/search/?q=4+r...  "
            ],
            "text/html": [
              "\n",
              "  <div id=\"df-91adbfb7-818a-48d8-a242-1ad3070e0168\">\n",
              "    <div class=\"colab-df-container\">\n",
              "      <div>\n",
              "<style scoped>\n",
              "    .dataframe tbody tr th:only-of-type {\n",
              "        vertical-align: middle;\n",
              "    }\n",
              "\n",
              "    .dataframe tbody tr th {\n",
              "        vertical-align: top;\n",
              "    }\n",
              "\n",
              "    .dataframe thead th {\n",
              "        text-align: right;\n",
              "    }\n",
              "</style>\n",
              "<table border=\"1\" class=\"dataframe\">\n",
              "  <thead>\n",
              "    <tr style=\"text-align: right;\">\n",
              "      <th></th>\n",
              "      <th>nom</th>\n",
              "      <th>adresse</th>\n",
              "      <th>API</th>\n",
              "    </tr>\n",
              "  </thead>\n",
              "  <tbody>\n",
              "    <tr>\n",
              "      <th>0</th>\n",
              "      <td>Polypode</td>\n",
              "      <td>6 place du Champgil, Clermont-Ferrand, 63000</td>\n",
              "      <td>https://api-adresse.data.gouv.fr/search/?q=6+p...</td>\n",
              "    </tr>\n",
              "    <tr>\n",
              "      <th>1</th>\n",
              "      <td>Jean-Claude Leclerc</td>\n",
              "      <td>12 rue St-Adjutor, Clermont-Ferrand, 63000</td>\n",
              "      <td>https://api-adresse.data.gouv.fr/search/?q=12+...</td>\n",
              "    </tr>\n",
              "    <tr>\n",
              "      <th>2</th>\n",
              "      <td>L'Écureuil</td>\n",
              "      <td>18 rue St-Adjutor, Clermont-Ferrand, 63000</td>\n",
              "      <td>https://api-adresse.data.gouv.fr/search/?q=18+...</td>\n",
              "    </tr>\n",
              "    <tr>\n",
              "      <th>3</th>\n",
              "      <td>Le Saint-Eutrope</td>\n",
              "      <td>4 rue St-Eutrope, Clermont-Ferrand, 63000</td>\n",
              "      <td>https://api-adresse.data.gouv.fr/search/?q=4+r...</td>\n",
              "    </tr>\n",
              "  </tbody>\n",
              "</table>\n",
              "</div>\n",
              "      <button class=\"colab-df-convert\" onclick=\"convertToInteractive('df-91adbfb7-818a-48d8-a242-1ad3070e0168')\"\n",
              "              title=\"Convert this dataframe to an interactive table.\"\n",
              "              style=\"display:none;\">\n",
              "        \n",
              "  <svg xmlns=\"http://www.w3.org/2000/svg\" height=\"24px\"viewBox=\"0 0 24 24\"\n",
              "       width=\"24px\">\n",
              "    <path d=\"M0 0h24v24H0V0z\" fill=\"none\"/>\n",
              "    <path d=\"M18.56 5.44l.94 2.06.94-2.06 2.06-.94-2.06-.94-.94-2.06-.94 2.06-2.06.94zm-11 1L8.5 8.5l.94-2.06 2.06-.94-2.06-.94L8.5 2.5l-.94 2.06-2.06.94zm10 10l.94 2.06.94-2.06 2.06-.94-2.06-.94-.94-2.06-.94 2.06-2.06.94z\"/><path d=\"M17.41 7.96l-1.37-1.37c-.4-.4-.92-.59-1.43-.59-.52 0-1.04.2-1.43.59L10.3 9.45l-7.72 7.72c-.78.78-.78 2.05 0 2.83L4 21.41c.39.39.9.59 1.41.59.51 0 1.02-.2 1.41-.59l7.78-7.78 2.81-2.81c.8-.78.8-2.07 0-2.86zM5.41 20L4 18.59l7.72-7.72 1.47 1.35L5.41 20z\"/>\n",
              "  </svg>\n",
              "      </button>\n",
              "      \n",
              "  <style>\n",
              "    .colab-df-container {\n",
              "      display:flex;\n",
              "      flex-wrap:wrap;\n",
              "      gap: 12px;\n",
              "    }\n",
              "\n",
              "    .colab-df-convert {\n",
              "      background-color: #E8F0FE;\n",
              "      border: none;\n",
              "      border-radius: 50%;\n",
              "      cursor: pointer;\n",
              "      display: none;\n",
              "      fill: #1967D2;\n",
              "      height: 32px;\n",
              "      padding: 0 0 0 0;\n",
              "      width: 32px;\n",
              "    }\n",
              "\n",
              "    .colab-df-convert:hover {\n",
              "      background-color: #E2EBFA;\n",
              "      box-shadow: 0px 1px 2px rgba(60, 64, 67, 0.3), 0px 1px 3px 1px rgba(60, 64, 67, 0.15);\n",
              "      fill: #174EA6;\n",
              "    }\n",
              "\n",
              "    [theme=dark] .colab-df-convert {\n",
              "      background-color: #3B4455;\n",
              "      fill: #D2E3FC;\n",
              "    }\n",
              "\n",
              "    [theme=dark] .colab-df-convert:hover {\n",
              "      background-color: #434B5C;\n",
              "      box-shadow: 0px 1px 3px 1px rgba(0, 0, 0, 0.15);\n",
              "      filter: drop-shadow(0px 1px 2px rgba(0, 0, 0, 0.3));\n",
              "      fill: #FFFFFF;\n",
              "    }\n",
              "  </style>\n",
              "\n",
              "      <script>\n",
              "        const buttonEl =\n",
              "          document.querySelector('#df-91adbfb7-818a-48d8-a242-1ad3070e0168 button.colab-df-convert');\n",
              "        buttonEl.style.display =\n",
              "          google.colab.kernel.accessAllowed ? 'block' : 'none';\n",
              "\n",
              "        async function convertToInteractive(key) {\n",
              "          const element = document.querySelector('#df-91adbfb7-818a-48d8-a242-1ad3070e0168');\n",
              "          const dataTable =\n",
              "            await google.colab.kernel.invokeFunction('convertToInteractive',\n",
              "                                                     [key], {});\n",
              "          if (!dataTable) return;\n",
              "\n",
              "          const docLinkHtml = 'Like what you see? Visit the ' +\n",
              "            '<a target=\"_blank\" href=https://colab.research.google.com/notebooks/data_table.ipynb>data table notebook</a>'\n",
              "            + ' to learn more about interactive tables.';\n",
              "          element.innerHTML = '';\n",
              "          dataTable['output_type'] = 'display_data';\n",
              "          await google.colab.output.renderOutput(dataTable, element);\n",
              "          const docLink = document.createElement('div');\n",
              "          docLink.innerHTML = docLinkHtml;\n",
              "          element.appendChild(docLink);\n",
              "        }\n",
              "      </script>\n",
              "    </div>\n",
              "  </div>\n",
              "  "
            ]
          },
          "metadata": {},
          "execution_count": 109
        }
      ]
    },
    {
      "cell_type": "code",
      "source": [
        "restaurants['API']"
      ],
      "metadata": {
        "colab": {
          "base_uri": "https://localhost:8080/"
        },
        "id": "YEyZ40mW2-nr",
        "outputId": "0c718068-f974-4778-9e9e-a5ad08ebfa2f"
      },
      "execution_count": 110,
      "outputs": [
        {
          "output_type": "execute_result",
          "data": {
            "text/plain": [
              "0    https://api-adresse.data.gouv.fr/search/?q=6+p...\n",
              "1    https://api-adresse.data.gouv.fr/search/?q=12+...\n",
              "2    https://api-adresse.data.gouv.fr/search/?q=18+...\n",
              "3    https://api-adresse.data.gouv.fr/search/?q=4+r...\n",
              "Name: API, dtype: object"
            ]
          },
          "metadata": {},
          "execution_count": 110
        }
      ]
    },
    {
      "cell_type": "code",
      "source": [
        "def text(link_api):\n",
        "  m = requests.get(link_api).json()\n",
        "  point = m['features'][0]['geometry']['coordinates'][::-1]\n",
        "  return (point)"
      ],
      "metadata": {
        "id": "WnoLUOlC73ce"
      },
      "execution_count": 111,
      "outputs": []
    },
    {
      "cell_type": "code",
      "source": [
        "restaurants['text'] = restaurants['API'].apply(text)\n",
        "restaurants"
      ],
      "metadata": {
        "colab": {
          "base_uri": "https://localhost:8080/",
          "height": 175
        },
        "id": "nb-Bll578IJV",
        "outputId": "0bd24903-3883-481c-9d31-528c19527af1"
      },
      "execution_count": 112,
      "outputs": [
        {
          "output_type": "execute_result",
          "data": {
            "text/plain": [
              "                   nom                                       adresse  \\\n",
              "0             Polypode  6 place du Champgil, Clermont-Ferrand, 63000   \n",
              "1  Jean-Claude Leclerc    12 rue St-Adjutor, Clermont-Ferrand, 63000   \n",
              "2           L'Écureuil    18 rue St-Adjutor, Clermont-Ferrand, 63000   \n",
              "3     Le Saint-Eutrope     4 rue St-Eutrope, Clermont-Ferrand, 63000   \n",
              "\n",
              "                                                 API                   text  \n",
              "0  https://api-adresse.data.gouv.fr/search/?q=6+p...  [45.778867, 3.079426]  \n",
              "1  https://api-adresse.data.gouv.fr/search/?q=12+...  [45.778846, 3.080385]  \n",
              "2  https://api-adresse.data.gouv.fr/search/?q=18+...      [45.779, 3.08043]  \n",
              "3  https://api-adresse.data.gouv.fr/search/?q=4+r...   [45.781347, 3.08249]  "
            ],
            "text/html": [
              "\n",
              "  <div id=\"df-4b0df20a-894a-4282-a4bb-c0217661d856\">\n",
              "    <div class=\"colab-df-container\">\n",
              "      <div>\n",
              "<style scoped>\n",
              "    .dataframe tbody tr th:only-of-type {\n",
              "        vertical-align: middle;\n",
              "    }\n",
              "\n",
              "    .dataframe tbody tr th {\n",
              "        vertical-align: top;\n",
              "    }\n",
              "\n",
              "    .dataframe thead th {\n",
              "        text-align: right;\n",
              "    }\n",
              "</style>\n",
              "<table border=\"1\" class=\"dataframe\">\n",
              "  <thead>\n",
              "    <tr style=\"text-align: right;\">\n",
              "      <th></th>\n",
              "      <th>nom</th>\n",
              "      <th>adresse</th>\n",
              "      <th>API</th>\n",
              "      <th>text</th>\n",
              "    </tr>\n",
              "  </thead>\n",
              "  <tbody>\n",
              "    <tr>\n",
              "      <th>0</th>\n",
              "      <td>Polypode</td>\n",
              "      <td>6 place du Champgil, Clermont-Ferrand, 63000</td>\n",
              "      <td>https://api-adresse.data.gouv.fr/search/?q=6+p...</td>\n",
              "      <td>[45.778867, 3.079426]</td>\n",
              "    </tr>\n",
              "    <tr>\n",
              "      <th>1</th>\n",
              "      <td>Jean-Claude Leclerc</td>\n",
              "      <td>12 rue St-Adjutor, Clermont-Ferrand, 63000</td>\n",
              "      <td>https://api-adresse.data.gouv.fr/search/?q=12+...</td>\n",
              "      <td>[45.778846, 3.080385]</td>\n",
              "    </tr>\n",
              "    <tr>\n",
              "      <th>2</th>\n",
              "      <td>L'Écureuil</td>\n",
              "      <td>18 rue St-Adjutor, Clermont-Ferrand, 63000</td>\n",
              "      <td>https://api-adresse.data.gouv.fr/search/?q=18+...</td>\n",
              "      <td>[45.779, 3.08043]</td>\n",
              "    </tr>\n",
              "    <tr>\n",
              "      <th>3</th>\n",
              "      <td>Le Saint-Eutrope</td>\n",
              "      <td>4 rue St-Eutrope, Clermont-Ferrand, 63000</td>\n",
              "      <td>https://api-adresse.data.gouv.fr/search/?q=4+r...</td>\n",
              "      <td>[45.781347, 3.08249]</td>\n",
              "    </tr>\n",
              "  </tbody>\n",
              "</table>\n",
              "</div>\n",
              "      <button class=\"colab-df-convert\" onclick=\"convertToInteractive('df-4b0df20a-894a-4282-a4bb-c0217661d856')\"\n",
              "              title=\"Convert this dataframe to an interactive table.\"\n",
              "              style=\"display:none;\">\n",
              "        \n",
              "  <svg xmlns=\"http://www.w3.org/2000/svg\" height=\"24px\"viewBox=\"0 0 24 24\"\n",
              "       width=\"24px\">\n",
              "    <path d=\"M0 0h24v24H0V0z\" fill=\"none\"/>\n",
              "    <path d=\"M18.56 5.44l.94 2.06.94-2.06 2.06-.94-2.06-.94-.94-2.06-.94 2.06-2.06.94zm-11 1L8.5 8.5l.94-2.06 2.06-.94-2.06-.94L8.5 2.5l-.94 2.06-2.06.94zm10 10l.94 2.06.94-2.06 2.06-.94-2.06-.94-.94-2.06-.94 2.06-2.06.94z\"/><path d=\"M17.41 7.96l-1.37-1.37c-.4-.4-.92-.59-1.43-.59-.52 0-1.04.2-1.43.59L10.3 9.45l-7.72 7.72c-.78.78-.78 2.05 0 2.83L4 21.41c.39.39.9.59 1.41.59.51 0 1.02-.2 1.41-.59l7.78-7.78 2.81-2.81c.8-.78.8-2.07 0-2.86zM5.41 20L4 18.59l7.72-7.72 1.47 1.35L5.41 20z\"/>\n",
              "  </svg>\n",
              "      </button>\n",
              "      \n",
              "  <style>\n",
              "    .colab-df-container {\n",
              "      display:flex;\n",
              "      flex-wrap:wrap;\n",
              "      gap: 12px;\n",
              "    }\n",
              "\n",
              "    .colab-df-convert {\n",
              "      background-color: #E8F0FE;\n",
              "      border: none;\n",
              "      border-radius: 50%;\n",
              "      cursor: pointer;\n",
              "      display: none;\n",
              "      fill: #1967D2;\n",
              "      height: 32px;\n",
              "      padding: 0 0 0 0;\n",
              "      width: 32px;\n",
              "    }\n",
              "\n",
              "    .colab-df-convert:hover {\n",
              "      background-color: #E2EBFA;\n",
              "      box-shadow: 0px 1px 2px rgba(60, 64, 67, 0.3), 0px 1px 3px 1px rgba(60, 64, 67, 0.15);\n",
              "      fill: #174EA6;\n",
              "    }\n",
              "\n",
              "    [theme=dark] .colab-df-convert {\n",
              "      background-color: #3B4455;\n",
              "      fill: #D2E3FC;\n",
              "    }\n",
              "\n",
              "    [theme=dark] .colab-df-convert:hover {\n",
              "      background-color: #434B5C;\n",
              "      box-shadow: 0px 1px 3px 1px rgba(0, 0, 0, 0.15);\n",
              "      filter: drop-shadow(0px 1px 2px rgba(0, 0, 0, 0.3));\n",
              "      fill: #FFFFFF;\n",
              "    }\n",
              "  </style>\n",
              "\n",
              "      <script>\n",
              "        const buttonEl =\n",
              "          document.querySelector('#df-4b0df20a-894a-4282-a4bb-c0217661d856 button.colab-df-convert');\n",
              "        buttonEl.style.display =\n",
              "          google.colab.kernel.accessAllowed ? 'block' : 'none';\n",
              "\n",
              "        async function convertToInteractive(key) {\n",
              "          const element = document.querySelector('#df-4b0df20a-894a-4282-a4bb-c0217661d856');\n",
              "          const dataTable =\n",
              "            await google.colab.kernel.invokeFunction('convertToInteractive',\n",
              "                                                     [key], {});\n",
              "          if (!dataTable) return;\n",
              "\n",
              "          const docLinkHtml = 'Like what you see? Visit the ' +\n",
              "            '<a target=\"_blank\" href=https://colab.research.google.com/notebooks/data_table.ipynb>data table notebook</a>'\n",
              "            + ' to learn more about interactive tables.';\n",
              "          element.innerHTML = '';\n",
              "          dataTable['output_type'] = 'display_data';\n",
              "          await google.colab.output.renderOutput(dataTable, element);\n",
              "          const docLink = document.createElement('div');\n",
              "          docLink.innerHTML = docLinkHtml;\n",
              "          element.appendChild(docLink);\n",
              "        }\n",
              "      </script>\n",
              "    </div>\n",
              "  </div>\n",
              "  "
            ]
          },
          "metadata": {},
          "execution_count": 112
        }
      ]
    },
    {
      "cell_type": "code",
      "source": [
        "m = folium.Map(location=[45.778867, 3.079426], zoom_start=16)\n",
        "\n",
        "\n",
        "folium.Marker(\n",
        "    location=[45.778867, 3.079426],\n",
        "    popup='Polypode'\n",
        "    ).add_to(m)\n",
        "\n",
        "\n",
        "folium.Marker(\n",
        "    location=[45.778846, 3.080385],\n",
        "    popup='Jean-Claude Leclerc'\n",
        "    ).add_to(m)\n",
        "\n",
        "folium.Marker(\n",
        "    location=[45.779, 3.08043],\n",
        "    popup=\"L'Écureuil\"\n",
        "    ).add_to(m)\n",
        "\n",
        "folium.Marker(\n",
        "    location=[45.781347, 3.08249],\n",
        "    popup='Le Saint-Eutrope'\n",
        "    ).add_to(m)\n",
        "\n",
        "m"
      ],
      "metadata": {
        "colab": {
          "base_uri": "https://localhost:8080/",
          "height": 904
        },
        "id": "rKWRrux4-vCb",
        "outputId": "493d190a-cbf5-4e29-bb50-de9aa64e00b0"
      },
      "execution_count": 117,
      "outputs": [
        {
          "output_type": "execute_result",
          "data": {
            "text/plain": [
              "<folium.folium.Map at 0x7f5ae5edc210>"
            ],
            "text/html": [
              "<div style=\"width:100%;\"><div style=\"position:relative;width:100%;height:0;padding-bottom:60%;\"><span style=\"color:#565656\">Make this Notebook Trusted to load map: File -> Trust Notebook</span><iframe srcdoc=\"&lt;!DOCTYPE html&gt;\n",
              "&lt;head&gt;    \n",
              "    &lt;meta http-equiv=&quot;content-type&quot; content=&quot;text/html; charset=UTF-8&quot; /&gt;\n",
              "    \n",
              "        &lt;script&gt;\n",
              "            L_NO_TOUCH = false;\n",
              "            L_DISABLE_3D = false;\n",
              "        &lt;/script&gt;\n",
              "    \n",
              "    &lt;style&gt;html, body {width: 100%;height: 100%;margin: 0;padding: 0;}&lt;/style&gt;\n",
              "    &lt;style&gt;#map {position:absolute;top:0;bottom:0;right:0;left:0;}&lt;/style&gt;\n",
              "    &lt;script src=&quot;https://cdn.jsdelivr.net/npm/leaflet@1.6.0/dist/leaflet.js&quot;&gt;&lt;/script&gt;\n",
              "    &lt;script src=&quot;https://code.jquery.com/jquery-1.12.4.min.js&quot;&gt;&lt;/script&gt;\n",
              "    &lt;script src=&quot;https://maxcdn.bootstrapcdn.com/bootstrap/3.2.0/js/bootstrap.min.js&quot;&gt;&lt;/script&gt;\n",
              "    &lt;script src=&quot;https://cdnjs.cloudflare.com/ajax/libs/Leaflet.awesome-markers/2.0.2/leaflet.awesome-markers.js&quot;&gt;&lt;/script&gt;\n",
              "    &lt;link rel=&quot;stylesheet&quot; href=&quot;https://cdn.jsdelivr.net/npm/leaflet@1.6.0/dist/leaflet.css&quot;/&gt;\n",
              "    &lt;link rel=&quot;stylesheet&quot; href=&quot;https://maxcdn.bootstrapcdn.com/bootstrap/3.2.0/css/bootstrap.min.css&quot;/&gt;\n",
              "    &lt;link rel=&quot;stylesheet&quot; href=&quot;https://maxcdn.bootstrapcdn.com/bootstrap/3.2.0/css/bootstrap-theme.min.css&quot;/&gt;\n",
              "    &lt;link rel=&quot;stylesheet&quot; href=&quot;https://maxcdn.bootstrapcdn.com/font-awesome/4.6.3/css/font-awesome.min.css&quot;/&gt;\n",
              "    &lt;link rel=&quot;stylesheet&quot; href=&quot;https://cdnjs.cloudflare.com/ajax/libs/Leaflet.awesome-markers/2.0.2/leaflet.awesome-markers.css&quot;/&gt;\n",
              "    &lt;link rel=&quot;stylesheet&quot; href=&quot;https://cdn.jsdelivr.net/gh/python-visualization/folium/folium/templates/leaflet.awesome.rotate.min.css&quot;/&gt;\n",
              "    \n",
              "            &lt;meta name=&quot;viewport&quot; content=&quot;width=device-width,\n",
              "                initial-scale=1.0, maximum-scale=1.0, user-scalable=no&quot; /&gt;\n",
              "            &lt;style&gt;\n",
              "                #map_88b410b1db67e58544b808cd1bc0a5df {\n",
              "                    position: relative;\n",
              "                    width: 100.0%;\n",
              "                    height: 100.0%;\n",
              "                    left: 0.0%;\n",
              "                    top: 0.0%;\n",
              "                }\n",
              "            &lt;/style&gt;\n",
              "        \n",
              "&lt;/head&gt;\n",
              "&lt;body&gt;    \n",
              "    \n",
              "            &lt;div class=&quot;folium-map&quot; id=&quot;map_88b410b1db67e58544b808cd1bc0a5df&quot; &gt;&lt;/div&gt;\n",
              "        \n",
              "&lt;/body&gt;\n",
              "&lt;script&gt;    \n",
              "    \n",
              "            var map_88b410b1db67e58544b808cd1bc0a5df = L.map(\n",
              "                &quot;map_88b410b1db67e58544b808cd1bc0a5df&quot;,\n",
              "                {\n",
              "                    center: [45.778867, 3.079426],\n",
              "                    crs: L.CRS.EPSG3857,\n",
              "                    zoom: 16,\n",
              "                    zoomControl: true,\n",
              "                    preferCanvas: false,\n",
              "                }\n",
              "            );\n",
              "\n",
              "            \n",
              "\n",
              "        \n",
              "    \n",
              "            var tile_layer_8299ab5a091bb2337cd8ba4d7c1039ca = L.tileLayer(\n",
              "                &quot;https://{s}.tile.openstreetmap.org/{z}/{x}/{y}.png&quot;,\n",
              "                {&quot;attribution&quot;: &quot;Data by \\u0026copy; \\u003ca href=\\&quot;http://openstreetmap.org\\&quot;\\u003eOpenStreetMap\\u003c/a\\u003e, under \\u003ca href=\\&quot;http://www.openstreetmap.org/copyright\\&quot;\\u003eODbL\\u003c/a\\u003e.&quot;, &quot;detectRetina&quot;: false, &quot;maxNativeZoom&quot;: 18, &quot;maxZoom&quot;: 18, &quot;minZoom&quot;: 0, &quot;noWrap&quot;: false, &quot;opacity&quot;: 1, &quot;subdomains&quot;: &quot;abc&quot;, &quot;tms&quot;: false}\n",
              "            ).addTo(map_88b410b1db67e58544b808cd1bc0a5df);\n",
              "        \n",
              "    \n",
              "            var marker_e72928ce6688139d8cb9301fb279f0db = L.marker(\n",
              "                [45.778867, 3.079426],\n",
              "                {}\n",
              "            ).addTo(map_88b410b1db67e58544b808cd1bc0a5df);\n",
              "        \n",
              "    \n",
              "        var popup_709b54d7a84a709de7f34a985490d04c = L.popup({&quot;maxWidth&quot;: &quot;100%&quot;});\n",
              "\n",
              "        \n",
              "            var html_5e59500f901f3dad22ab40d6486a4e47 = $(`&lt;div id=&quot;html_5e59500f901f3dad22ab40d6486a4e47&quot; style=&quot;width: 100.0%; height: 100.0%;&quot;&gt;Polypode&lt;/div&gt;`)[0];\n",
              "            popup_709b54d7a84a709de7f34a985490d04c.setContent(html_5e59500f901f3dad22ab40d6486a4e47);\n",
              "        \n",
              "\n",
              "        marker_e72928ce6688139d8cb9301fb279f0db.bindPopup(popup_709b54d7a84a709de7f34a985490d04c)\n",
              "        ;\n",
              "\n",
              "        \n",
              "    \n",
              "    \n",
              "            var marker_d4b3570223385f0b37d610e2b2606d51 = L.marker(\n",
              "                [45.778846, 3.080385],\n",
              "                {}\n",
              "            ).addTo(map_88b410b1db67e58544b808cd1bc0a5df);\n",
              "        \n",
              "    \n",
              "        var popup_9780991cea19a525a58b393c593a73ef = L.popup({&quot;maxWidth&quot;: &quot;100%&quot;});\n",
              "\n",
              "        \n",
              "            var html_8db7d38eae991aa6d8744bd46e61144e = $(`&lt;div id=&quot;html_8db7d38eae991aa6d8744bd46e61144e&quot; style=&quot;width: 100.0%; height: 100.0%;&quot;&gt;Jean-Claude Leclerc&lt;/div&gt;`)[0];\n",
              "            popup_9780991cea19a525a58b393c593a73ef.setContent(html_8db7d38eae991aa6d8744bd46e61144e);\n",
              "        \n",
              "\n",
              "        marker_d4b3570223385f0b37d610e2b2606d51.bindPopup(popup_9780991cea19a525a58b393c593a73ef)\n",
              "        ;\n",
              "\n",
              "        \n",
              "    \n",
              "    \n",
              "            var marker_87dc2a433bbd8b3f695d904b56603bda = L.marker(\n",
              "                [45.779, 3.08043],\n",
              "                {}\n",
              "            ).addTo(map_88b410b1db67e58544b808cd1bc0a5df);\n",
              "        \n",
              "    \n",
              "        var popup_71857fc21c4e85bb51301e0690662620 = L.popup({&quot;maxWidth&quot;: &quot;100%&quot;});\n",
              "\n",
              "        \n",
              "            var html_13deb9876b842baece72b12464dd7d53 = $(`&lt;div id=&quot;html_13deb9876b842baece72b12464dd7d53&quot; style=&quot;width: 100.0%; height: 100.0%;&quot;&gt;L&#x27;Écureuil&lt;/div&gt;`)[0];\n",
              "            popup_71857fc21c4e85bb51301e0690662620.setContent(html_13deb9876b842baece72b12464dd7d53);\n",
              "        \n",
              "\n",
              "        marker_87dc2a433bbd8b3f695d904b56603bda.bindPopup(popup_71857fc21c4e85bb51301e0690662620)\n",
              "        ;\n",
              "\n",
              "        \n",
              "    \n",
              "    \n",
              "            var marker_7488161f02582f109066647c75158709 = L.marker(\n",
              "                [45.781347, 3.08249],\n",
              "                {}\n",
              "            ).addTo(map_88b410b1db67e58544b808cd1bc0a5df);\n",
              "        \n",
              "    \n",
              "        var popup_f426663654c6f24a74be97629b7d4e18 = L.popup({&quot;maxWidth&quot;: &quot;100%&quot;});\n",
              "\n",
              "        \n",
              "            var html_9cbb90a653ee30500f2dcb24bb9efc8e = $(`&lt;div id=&quot;html_9cbb90a653ee30500f2dcb24bb9efc8e&quot; style=&quot;width: 100.0%; height: 100.0%;&quot;&gt;Le Saint-Eutrope&lt;/div&gt;`)[0];\n",
              "            popup_f426663654c6f24a74be97629b7d4e18.setContent(html_9cbb90a653ee30500f2dcb24bb9efc8e);\n",
              "        \n",
              "\n",
              "        marker_7488161f02582f109066647c75158709.bindPopup(popup_f426663654c6f24a74be97629b7d4e18)\n",
              "        ;\n",
              "\n",
              "        \n",
              "    \n",
              "&lt;/script&gt;\" style=\"position:absolute;width:100%;height:100%;left:0;top:0;border:none !important;\" allowfullscreen webkitallowfullscreen mozallowfullscreen></iframe></div></div>"
            ]
          },
          "metadata": {},
          "execution_count": 117
        }
      ]
    },
    {
      "cell_type": "markdown",
      "metadata": {
        "id": "5198aDGpHIF2"
      },
      "source": [
        "# Remarques sur l'API Adresse\n",
        "Comme indiqué dans la quête, il existe un grand nombre de ressources permettant de faire du géocodage. La plupart sont sur inscription, et certaines sont payantes.\n",
        "\n",
        "L'API Adresse est gratuite et sans inscription. L'inconvénient est qu'elle est relativement lente. Si tu dois l'utiliser à l'avenir, pense donc à stocker les résultats pour éviter de devoir relancer le traitement plusieurs fois.\n",
        "\n",
        "Pour ta connaissance, il existe également :\n",
        "- l'API Adresse **reverse** qui permet de trouver l'adresse postale la plus proche à partir de coordonnées géographiques\n",
        "- l'API à partir d'un **fichier CSV** si vous avez beaucoup de lignes à géocoder\n",
        "- l'API **découpage administratif** qui permet d'obtenir un format geoJSON des communes et départements pour effectuer des cartes choroplèthes\n",
        "\n",
        "Toutes la [documentation est disponible ici](https://geo.api.gouv.fr/adresse)."
      ]
    }
  ]
}